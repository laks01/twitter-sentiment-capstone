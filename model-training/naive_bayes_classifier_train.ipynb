{
 "cells": [
  {
   "cell_type": "code",
   "execution_count": 1,
   "id": "e4ff0b78",
   "metadata": {},
   "outputs": [
    {
     "name": "stderr",
     "output_type": "stream",
     "text": [
      "/Users/ldoddi/opt/anaconda3/lib/python3.8/site-packages/scipy/__init__.py:146: UserWarning: A NumPy version >=1.16.5 and <1.23.0 is required for this version of SciPy (detected version 1.23.4\n",
      "  warnings.warn(f\"A NumPy version >={np_minversion} and <{np_maxversion}\"\n"
     ]
    }
   ],
   "source": [
    "import pandas as pd\n",
    "import numpy as np\n",
    "from sklearn import naive_bayes\n",
    "import os\n",
    "import sys\n",
    "import re\n",
    "import plotly.express as px\n",
    "import plotly.graph_objects as go\n",
    "from sklearn.metrics import roc_auc_score\n",
    "from sklearn.metrics import confusion_matrix\n",
    "from sklearn.metrics import ConfusionMatrixDisplay\n",
    "import pickle\n",
    "import s3fs"
   ]
  },
  {
   "cell_type": "code",
   "execution_count": 2,
   "id": "3f250a32",
   "metadata": {},
   "outputs": [],
   "source": [
    "module_path = os.path.abspath(os.path.join('..'))\n",
    "if module_path not in sys.path:\n",
    "    sys.path.append(module_path)"
   ]
  },
  {
   "cell_type": "code",
   "execution_count": 3,
   "id": "fd20a4d4",
   "metadata": {},
   "outputs": [],
   "source": [
    "from utils import process_tweet"
   ]
  },
  {
   "cell_type": "code",
   "execution_count": 4,
   "id": "3b8bb496",
   "metadata": {},
   "outputs": [
    {
     "data": {
      "text/html": [
       "<div>\n",
       "<style scoped>\n",
       "    .dataframe tbody tr th:only-of-type {\n",
       "        vertical-align: middle;\n",
       "    }\n",
       "\n",
       "    .dataframe tbody tr th {\n",
       "        vertical-align: top;\n",
       "    }\n",
       "\n",
       "    .dataframe thead th {\n",
       "        text-align: right;\n",
       "    }\n",
       "</style>\n",
       "<table border=\"1\" class=\"dataframe\">\n",
       "  <thead>\n",
       "    <tr style=\"text-align: right;\">\n",
       "      <th></th>\n",
       "      <th>Unnamed: 0</th>\n",
       "      <th>sentiment</th>\n",
       "      <th>text</th>\n",
       "    </tr>\n",
       "  </thead>\n",
       "  <tbody>\n",
       "    <tr>\n",
       "      <th>714691</th>\n",
       "      <td>322663</td>\n",
       "      <td>0</td>\n",
       "      <td>Is sitting at the dmv to get my reg cuz they f...</td>\n",
       "    </tr>\n",
       "    <tr>\n",
       "      <th>805518</th>\n",
       "      <td>1469543</td>\n",
       "      <td>1</td>\n",
       "      <td>@SharCarm not a fan of the self pump?</td>\n",
       "    </tr>\n",
       "    <tr>\n",
       "      <th>514951</th>\n",
       "      <td>882793</td>\n",
       "      <td>1</td>\n",
       "      <td>I just realised i've got monday training tomor...</td>\n",
       "    </tr>\n",
       "    <tr>\n",
       "      <th>714996</th>\n",
       "      <td>1207285</td>\n",
       "      <td>1</td>\n",
       "      <td>@KristenjStewart the trailer for New Moon was ...</td>\n",
       "    </tr>\n",
       "    <tr>\n",
       "      <th>714120</th>\n",
       "      <td>1163475</td>\n",
       "      <td>1</td>\n",
       "      <td>@danphasers im writing one later</td>\n",
       "    </tr>\n",
       "  </tbody>\n",
       "</table>\n",
       "</div>"
      ],
      "text/plain": [
       "        Unnamed: 0  sentiment  \\\n",
       "714691      322663          0   \n",
       "805518     1469543          1   \n",
       "514951      882793          1   \n",
       "714996     1207285          1   \n",
       "714120     1163475          1   \n",
       "\n",
       "                                                     text  \n",
       "714691  Is sitting at the dmv to get my reg cuz they f...  \n",
       "805518            @SharCarm not a fan of the self pump?    \n",
       "514951  I just realised i've got monday training tomor...  \n",
       "714996  @KristenjStewart the trailer for New Moon was ...  \n",
       "714120                  @danphasers im writing one later   "
      ]
     },
     "execution_count": 4,
     "metadata": {},
     "output_type": "execute_result"
    }
   ],
   "source": [
    "#Reading the training data file\n",
    "data = pd.read_csv(\"s3://twitter-sentiment-laks/processed/sentiment_label_data.csv\")\n",
    "data.sample(5)"
   ]
  },
  {
   "cell_type": "code",
   "execution_count": 5,
   "id": "98409933",
   "metadata": {},
   "outputs": [],
   "source": [
    "#cleaning the tweets \n",
    "data[\"tweets\"] = data[\"text\"].map(lambda x : process_tweet(x))"
   ]
  },
  {
   "cell_type": "code",
   "execution_count": 6,
   "id": "0e95080b",
   "metadata": {},
   "outputs": [
    {
     "data": {
      "text/plain": [
       "383457    @msmcporkchop oh man! i wouldv'e cried 10 time...\n",
       "658297                                       i'm very cold \n",
       "705718    to my surprise and delight, hollie spent a cou...\n",
       "926356    eddie don't like me cause i do so much crystal...\n",
       "648728                   pain in my head, my toes, my ties \n",
       "234283                             @krftd the site is nice \n",
       "108409    @shandrajade it was good, i wish i went to red...\n",
       "508180    @carolinamama except for that whole land's end...\n",
       "438394    slightly down. its always weird when im talkin...\n",
       "785248    had a change of plans...at least i get to enjo...\n",
       "Name: tweets, dtype: object"
      ]
     },
     "execution_count": 6,
     "metadata": {},
     "output_type": "execute_result"
    }
   ],
   "source": [
    "#Added column clean_tweet to store te processed tweets \n",
    "data[\"tweets\"].sample(10)"
   ]
  },
  {
   "cell_type": "code",
   "execution_count": 7,
   "id": "7b057969",
   "metadata": {},
   "outputs": [],
   "source": [
    "from sklearn.model_selection import train_test_split\n",
    "\n",
    "X_train, X_test, y_train, y_test = train_test_split(data['tweets'], data['sentiment'], test_size = 0.333, random_state=0)"
   ]
  },
  {
   "cell_type": "code",
   "execution_count": 8,
   "id": "923bd3ee",
   "metadata": {},
   "outputs": [
    {
     "data": {
      "text/plain": [
       "'actually loves her life right now '"
      ]
     },
     "execution_count": 8,
     "metadata": {},
     "output_type": "execute_result"
    }
   ],
   "source": [
    "X_train[0]"
   ]
  },
  {
   "cell_type": "code",
   "execution_count": 9,
   "id": "30234dc6",
   "metadata": {},
   "outputs": [
    {
     "data": {
      "text/plain": [
       "1"
      ]
     },
     "execution_count": 9,
     "metadata": {},
     "output_type": "execute_result"
    }
   ],
   "source": [
    "y_train[0]"
   ]
  },
  {
   "cell_type": "code",
   "execution_count": 10,
   "id": "3da69c14",
   "metadata": {},
   "outputs": [],
   "source": [
    "from sklearn.feature_extraction.text import CountVectorizer\n",
    "vect = CountVectorizer().fit(X_train)\n"
   ]
  },
  {
   "cell_type": "code",
   "execution_count": 11,
   "id": "9e4c2c84",
   "metadata": {},
   "outputs": [],
   "source": [
    "#vect.get_feature_names()[::10]"
   ]
  },
  {
   "cell_type": "code",
   "execution_count": 12,
   "id": "76a8ceb9",
   "metadata": {},
   "outputs": [],
   "source": [
    "X_train_vectorized = vect.transform(X_train)"
   ]
  },
  {
   "cell_type": "code",
   "execution_count": 13,
   "id": "b8277f38",
   "metadata": {},
   "outputs": [
    {
     "data": {
      "text/plain": [
       "MultinomialNB()"
      ]
     },
     "execution_count": 13,
     "metadata": {},
     "output_type": "execute_result"
    }
   ],
   "source": [
    "#Training the model\n",
    "clfrNB = naive_bayes.MultinomialNB()\n",
    "clfrNB.fit(X_train_vectorized, y_train)"
   ]
  },
  {
   "cell_type": "code",
   "execution_count": 14,
   "id": "29d477a2",
   "metadata": {},
   "outputs": [],
   "source": [
    "#Vectorizing and predicting the labels \n",
    "X_test_vectorized = vect.transform(X_test)\n",
    "predicted_labels = clfrNB.predict(X_test_vectorized)"
   ]
  },
  {
   "cell_type": "code",
   "execution_count": 15,
   "id": "b6fb5320",
   "metadata": {},
   "outputs": [
    {
     "name": "stdout",
     "output_type": "stream",
     "text": [
      "AUC: 0.7784479901947597\n"
     ]
    }
   ],
   "source": [
    "# Metrics to evaluate the model\n",
    "from sklearn.metrics import roc_auc_score\n",
    "print(\"AUC:\", roc_auc_score (y_test, predicted_labels))"
   ]
  },
  {
   "cell_type": "code",
   "execution_count": 16,
   "id": "d9387b0f",
   "metadata": {},
   "outputs": [
    {
     "name": "stdout",
     "output_type": "stream",
     "text": [
      "[[136471  30125]\n",
      " [ 43644 122760]]\n"
     ]
    }
   ],
   "source": [
    "# Confusion Matrix to evaluate for binary classification\n",
    "from sklearn.metrics import confusion_matrix\n",
    "confusion_matrix = confusion_matrix(y_test, predicted_labels,labels=clfrNB.classes_ )\n",
    "confusion_matrix = confusion_matrix.astype(int)\n",
    "print(confusion_matrix)\n",
    "# TODO: https://scikit-learn.org/stable/modules/generated/sklearn.metrics.ConfusionMatrixDisplay.html"
   ]
  },
  {
   "cell_type": "code",
   "execution_count": 17,
   "id": "bf40de7a-6902-4e21-b1ee-a89bbbc2f02b",
   "metadata": {},
   "outputs": [
    {
     "data": {
      "text/plain": [
       "<sklearn.metrics._plot.confusion_matrix.ConfusionMatrixDisplay at 0x1271cca30>"
      ]
     },
     "execution_count": 17,
     "metadata": {},
     "output_type": "execute_result"
    },
    {
     "data": {
      "image/png": "[encoded data removed]",
      "text/plain": [
       "<Figure size 432x288 with 2 Axes>"
      ]
     },
     "metadata": {
      "needs_background": "light"
     },
     "output_type": "display_data"
    }
   ],
   "source": [
    "disp = ConfusionMatrixDisplay(confusion_matrix=confusion_matrix, display_labels=['Postive', 'Negative'])\n",
    "disp.plot()"
   ]
  },
  {
   "cell_type": "code",
   "execution_count": 18,
   "id": "f5f91f2b",
   "metadata": {},
   "outputs": [
    {
     "name": "stdout",
     "output_type": "stream",
     "text": [
      "Precision    : 0.803\n",
      "Recall       : 0.738\n",
      "F1 Score     : 0.769\n"
     ]
    }
   ],
   "source": [
    "#Calculating precision, recall, f1_score \n",
    "from sklearn.metrics import classification_report, precision_score, recall_score, f1_score\n",
    "print('Precision    : %.3f'%precision_score(y_test, predicted_labels))\n",
    "print('Recall       : %.3f'%recall_score(y_test, predicted_labels))\n",
    "print('F1 Score     : %.3f'%f1_score(y_test, predicted_labels))"
   ]
  },
  {
   "cell_type": "code",
   "execution_count": 19,
   "id": "e0fec818-aa9a-452a-8a61-eb97d7e00b03",
   "metadata": {},
   "outputs": [
    {
     "name": "stdout",
     "output_type": "stream",
     "text": [
      "s3://twitter-sentiment-laks/trained_models/naive_bayes_classification.sav\n"
     ]
    }
   ],
   "source": [
    "## Loading the model to S3\n",
    "model_dir='s3://twitter-sentiment-laks/trained_models/'\n",
    "file_name=model_dir+'naive_bayes_classification.sav'\n",
    "print(file_name)\n",
    "fs = s3fs.S3FileSystem(anon=False)\n",
    "pickle.dump(clfrNB, fs.open(file_name, 'wb'))"
   ]
  },
  {
   "cell_type": "code",
   "execution_count": 39,
   "id": "8d6410f7",
   "metadata": {},
   "outputs": [],
   "source": [
    "# Storing the prediction to csv file\n",
    "tesla_data.to_csv('../data/output/naive_bayes_sentiment_predictions.csv')"
   ]
  }
 ],
 "metadata": {
  "kernelspec": {
   "display_name": "Python 3",
   "language": "python",
   "name": "python3"
  },
  "language_info": {
   "codemirror_mode": {
    "name": "ipython",
    "version": 3
   },
   "file_extension": ".py",
   "mimetype": "text/x-python",
   "name": "python",
   "nbconvert_exporter": "python",
   "pygments_lexer": "ipython3",
   "version": "3.8.10"
  }
 },
 "nbformat": 4,
 "nbformat_minor": 5
}
