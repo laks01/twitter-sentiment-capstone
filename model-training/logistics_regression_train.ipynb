{
 "cells": [
  {
   "cell_type": "code",
   "execution_count": 1,
   "id": "88513d2f",
   "metadata": {},
   "outputs": [
    {
     "name": "stderr",
     "output_type": "stream",
     "text": [
      "/Users/ldoddi/opt/anaconda3/lib/python3.8/site-packages/scipy/__init__.py:146: UserWarning: A NumPy version >=1.16.5 and <1.23.0 is required for this version of SciPy (detected version 1.23.4\n",
      "  warnings.warn(f\"A NumPy version >={np_minversion} and <{np_maxversion}\"\n"
     ]
    }
   ],
   "source": [
    "import pandas as pd\n",
    "import numpy as np\n",
    "from sklearn import linear_model\n",
    "import os\n",
    "import sys\n",
    "import re\n",
    "import plotly.express as px\n",
    "import plotly.graph_objects as go\n",
    "from sklearn.metrics import roc_auc_score\n",
    "from sklearn.metrics import confusion_matrix\n",
    "from sklearn.metrics import ConfusionMatrixDisplay\n",
    "import pickle\n",
    "import s3fs"
   ]
  },
  {
   "cell_type": "code",
   "execution_count": 2,
   "id": "2b87d885",
   "metadata": {},
   "outputs": [],
   "source": [
    "module_path = os.path.abspath(os.path.join('..'))\n",
    "if module_path not in sys.path:\n",
    "    sys.path.append(module_path)"
   ]
  },
  {
   "cell_type": "code",
   "execution_count": 3,
   "id": "7a9530af",
   "metadata": {},
   "outputs": [],
   "source": [
    "from utils import process_tweet"
   ]
  },
  {
   "cell_type": "code",
   "execution_count": 4,
   "id": "f30a692b",
   "metadata": {},
   "outputs": [
    {
     "data": {
      "text/html": [
       "<div>\n",
       "<style scoped>\n",
       "    .dataframe tbody tr th:only-of-type {\n",
       "        vertical-align: middle;\n",
       "    }\n",
       "\n",
       "    .dataframe tbody tr th {\n",
       "        vertical-align: top;\n",
       "    }\n",
       "\n",
       "    .dataframe thead th {\n",
       "        text-align: right;\n",
       "    }\n",
       "</style>\n",
       "<table border=\"1\" class=\"dataframe\">\n",
       "  <thead>\n",
       "    <tr style=\"text-align: right;\">\n",
       "      <th></th>\n",
       "      <th>Unnamed: 0</th>\n",
       "      <th>sentiment</th>\n",
       "      <th>text</th>\n",
       "    </tr>\n",
       "  </thead>\n",
       "  <tbody>\n",
       "    <tr>\n",
       "      <th>835770</th>\n",
       "      <td>578347</td>\n",
       "      <td>0</td>\n",
       "      <td>At werk!! Can't wait for the hubby to pick me ...</td>\n",
       "    </tr>\n",
       "    <tr>\n",
       "      <th>702377</th>\n",
       "      <td>1555411</td>\n",
       "      <td>1</td>\n",
       "      <td>@chidread no prob...</td>\n",
       "    </tr>\n",
       "    <tr>\n",
       "      <th>626330</th>\n",
       "      <td>40030</td>\n",
       "      <td>0</td>\n",
       "      <td>@mariashriver I once sent you a letter, about ...</td>\n",
       "    </tr>\n",
       "    <tr>\n",
       "      <th>425985</th>\n",
       "      <td>1544262</td>\n",
       "      <td>1</td>\n",
       "      <td>@arsenal_fann What are you talking about?! Tha...</td>\n",
       "    </tr>\n",
       "    <tr>\n",
       "      <th>848459</th>\n",
       "      <td>276129</td>\n",
       "      <td>0</td>\n",
       "      <td>Is it national drop your dog off on the highwa...</td>\n",
       "    </tr>\n",
       "  </tbody>\n",
       "</table>\n",
       "</div>"
      ],
      "text/plain": [
       "        Unnamed: 0  sentiment  \\\n",
       "835770      578347          0   \n",
       "702377     1555411          1   \n",
       "626330       40030          0   \n",
       "425985     1544262          1   \n",
       "848459      276129          0   \n",
       "\n",
       "                                                     text  \n",
       "835770  At werk!! Can't wait for the hubby to pick me ...  \n",
       "702377                              @chidread no prob...   \n",
       "626330  @mariashriver I once sent you a letter, about ...  \n",
       "425985  @arsenal_fann What are you talking about?! Tha...  \n",
       "848459  Is it national drop your dog off on the highwa...  "
      ]
     },
     "execution_count": 4,
     "metadata": {},
     "output_type": "execute_result"
    }
   ],
   "source": [
    "data = pd.read_csv(\"s3://twitter-sentiment-laks/processed/sentiment_label_data.csv\")\n",
    "data.sample(5)"
   ]
  },
  {
   "cell_type": "code",
   "execution_count": 5,
   "id": "0351378a-48ba-46f6-a28b-0c3ffc71d16d",
   "metadata": {},
   "outputs": [
    {
     "data": {
      "text/plain": [
       "(1000000, 3)"
      ]
     },
     "execution_count": 5,
     "metadata": {},
     "output_type": "execute_result"
    }
   ],
   "source": [
    "data.shape"
   ]
  },
  {
   "cell_type": "code",
   "execution_count": 23,
   "id": "5694f57b",
   "metadata": {},
   "outputs": [],
   "source": [
    "data[\"tweets\"] = data[\"text\"].map(lambda x : process_tweet(x))"
   ]
  },
  {
   "cell_type": "code",
   "execution_count": 24,
   "id": "f2076095",
   "metadata": {},
   "outputs": [
    {
     "data": {
      "text/plain": [
       "941298    mmmm, iced coffee... - …that i still need to f...\n",
       "729592    @sunkitty7 season 2 - amazing wonderful! and t...\n",
       "334193    feeling very sad after an emotional day ... mo...\n",
       "834332    im extremely disappointed with the mikey show....\n",
       "637117                             @analovestito  clean me!\n",
       "678544                                    i'm so bored now \n",
       "594591    in the words of imogen heap........... is that...\n",
       "132428                        sorry deejj they're gone  lol\n",
       "171964    assassins creed 2 trailer was awesome. no i am...\n",
       "648623    @mvanduyne http://twitpic.com/7t1b9 - yeha, i ...\n",
       "Name: tweets, dtype: object"
      ]
     },
     "execution_count": 24,
     "metadata": {},
     "output_type": "execute_result"
    }
   ],
   "source": [
    "#Added column clean_tweet to store te processed tweets \n",
    "data[\"tweets\"].sample(10)"
   ]
  },
  {
   "cell_type": "code",
   "execution_count": 25,
   "id": "facd5e3f",
   "metadata": {},
   "outputs": [],
   "source": [
    "from sklearn.model_selection import train_test_split\n",
    "\n",
    "X_train, X_test, y_train, y_test = train_test_split(data['tweets'], data['sentiment'], test_size = 0.333, random_state=0)"
   ]
  },
  {
   "cell_type": "code",
   "execution_count": 26,
   "id": "bfa1f235",
   "metadata": {},
   "outputs": [
    {
     "data": {
      "text/plain": [
       "'actually loves her life right now '"
      ]
     },
     "execution_count": 26,
     "metadata": {},
     "output_type": "execute_result"
    }
   ],
   "source": [
    "X_train[0]"
   ]
  },
  {
   "cell_type": "code",
   "execution_count": 27,
   "id": "4592f1ac",
   "metadata": {},
   "outputs": [
    {
     "data": {
      "text/plain": [
       "1"
      ]
     },
     "execution_count": 27,
     "metadata": {},
     "output_type": "execute_result"
    }
   ],
   "source": [
    "y_train[0]"
   ]
  },
  {
   "cell_type": "code",
   "execution_count": 29,
   "id": "9e643eff",
   "metadata": {},
   "outputs": [],
   "source": [
    "from sklearn.feature_extraction.text import CountVectorizer\n",
    "vect = CountVectorizer().fit(X_train)\n"
   ]
  },
  {
   "cell_type": "code",
   "execution_count": 30,
   "id": "6c4de796",
   "metadata": {},
   "outputs": [],
   "source": [
    "#vect.get_feature_names()[::10]"
   ]
  },
  {
   "cell_type": "code",
   "execution_count": 31,
   "id": "cd3c63d4",
   "metadata": {},
   "outputs": [
    {
     "data": {
      "text/plain": [
       "(667000, 378164)"
      ]
     },
     "execution_count": 31,
     "metadata": {},
     "output_type": "execute_result"
    }
   ],
   "source": [
    "X_train_vectorized = vect.transform(X_train)\n",
    "X_train_vectorized.get_shape()"
   ]
  },
  {
   "cell_type": "code",
   "execution_count": 32,
   "id": "d0927c4d",
   "metadata": {},
   "outputs": [],
   "source": [
    "logistic_regression = linear_model.LogisticRegression(solver='liblinear')"
   ]
  },
  {
   "cell_type": "code",
   "execution_count": 33,
   "id": "c3e5dfbc",
   "metadata": {},
   "outputs": [
    {
     "data": {
      "text/plain": [
       "LogisticRegression(solver='liblinear')"
      ]
     },
     "execution_count": 33,
     "metadata": {},
     "output_type": "execute_result"
    }
   ],
   "source": [
    "logistic_regression.fit(X_train_vectorized, y_train)\n"
   ]
  },
  {
   "cell_type": "code",
   "execution_count": 34,
   "id": "80034b64",
   "metadata": {},
   "outputs": [
    {
     "data": {
      "text/plain": [
       "(333000, 378164)"
      ]
     },
     "execution_count": 34,
     "metadata": {},
     "output_type": "execute_result"
    }
   ],
   "source": [
    "X_test_vectorized = vect.transform(X_test)\n",
    "X_test_vectorized.get_shape()"
   ]
  },
  {
   "cell_type": "code",
   "execution_count": 35,
   "id": "166c11bb",
   "metadata": {},
   "outputs": [],
   "source": [
    "predicted_labels = logistic_regression.predict(X_test_vectorized)"
   ]
  },
  {
   "cell_type": "code",
   "execution_count": 37,
   "id": "e54b490b",
   "metadata": {},
   "outputs": [
    {
     "name": "stdout",
     "output_type": "stream",
     "text": [
      "AUC: 0.796709526336246\n"
     ]
    }
   ],
   "source": [
    "from sklearn.metrics import roc_auc_score\n",
    "print(\"AUC:\", roc_auc_score (y_test, predicted_labels))"
   ]
  },
  {
   "cell_type": "code",
   "execution_count": 38,
   "id": "6a77d9a3-915f-4d84-9a13-feccc4ce7a20",
   "metadata": {},
   "outputs": [
    {
     "data": {
      "text/plain": [
       "array([1, 1, 0, 1, 0])"
      ]
     },
     "execution_count": 38,
     "metadata": {},
     "output_type": "execute_result"
    }
   ],
   "source": [
    "predicted_labels[:5]"
   ]
  },
  {
   "cell_type": "code",
   "execution_count": 39,
   "id": "647eb38a",
   "metadata": {},
   "outputs": [
    {
     "name": "stdout",
     "output_type": "stream",
     "text": [
      "[[130757  35839]\n",
      " [ 31859 134545]]\n"
     ]
    }
   ],
   "source": [
    "# Confusion Matrix to evaluate for binary classification\n",
    "from sklearn.metrics import confusion_matrix\n",
    "confusion_matrix = confusion_matrix(y_test, predicted_labels)\n",
    "#confusion_matrix = confusion_matrix.astype(int)\n",
    "print(confusion_matrix)"
   ]
  },
  {
   "cell_type": "code",
   "execution_count": 47,
   "id": "6458c0d5-b6fe-4bb7-a5b5-e780ffd80603",
   "metadata": {},
   "outputs": [
    {
     "data": {
      "text/plain": [
       "<sklearn.metrics._plot.confusion_matrix.ConfusionMatrixDisplay at 0x13b25eca0>"
      ]
     },
     "execution_count": 47,
     "metadata": {},
     "output_type": "execute_result"
    },
    {
     "data": {
      "image/png": "[encoded data removed]",
      "text/plain": [
       "<Figure size 432x288 with 2 Axes>"
      ]
     },
     "metadata": {
      "needs_background": "light"
     },
     "output_type": "display_data"
    }
   ],
   "source": [
    "disp = ConfusionMatrixDisplay(confusion_matrix=confusion_matrix, display_labels=['Postive', 'Negative'])\n",
    "disp.ax.set_title(\"Logistics Regression\")\n",
    "disp.plot()"
   ]
  },
  {
   "cell_type": "code",
   "execution_count": 48,
   "id": "603f6760",
   "metadata": {},
   "outputs": [
    {
     "name": "stdout",
     "output_type": "stream",
     "text": [
      "Precision    : 0.790\n",
      "Recall       : 0.809\n",
      "F1 Score     : 0.799\n"
     ]
    }
   ],
   "source": [
    "#Calculating precision, recall, f1_score \n",
    "from sklearn.metrics import classification_report, precision_score, recall_score, f1_score\n",
    "print('Precision    : %.3f'%precision_score(y_test, predicted_labels))\n",
    "print('Recall       : %.3f'%recall_score(y_test, predicted_labels))\n",
    "print('F1 Score     : %.3f'%f1_score(y_test, predicted_labels))"
   ]
  },
  {
   "cell_type": "code",
   "execution_count": 76,
   "id": "506bada9",
   "metadata": {},
   "outputs": [
    {
     "name": "stdout",
     "output_type": "stream",
     "text": [
      "s3://twitter-sentiment-laks/trained_models/logistics_regression.sav\n"
     ]
    }
   ],
   "source": [
    "#model_dir = 's3://twitter-sentiment-laks/trained_models/'\n",
    "model_dir='trained_models/'\n",
    "file_name='s3://twitter-sentiment-laks/trained_models/logistics_regression.sav'\n",
    "fs = s3fs.S3FileSystem(anon=False)\n",
    "pickle.dump(logistic_regression, fs.open(file_name, 'wb'))\n",
    "print('Process Completed')"
   ]
  }
 ],
 "metadata": {
  "kernelspec": {
   "display_name": "Python 3",
   "language": "python",
   "name": "python3"
  },
  "language_info": {
   "codemirror_mode": {
    "name": "ipython",
    "version": 3
   },
   "file_extension": ".py",
   "mimetype": "text/x-python",
   "name": "python",
   "nbconvert_exporter": "python",
   "pygments_lexer": "ipython3",
   "version": "3.8.10"
  }
 },
 "nbformat": 4,
 "nbformat_minor": 5
}
