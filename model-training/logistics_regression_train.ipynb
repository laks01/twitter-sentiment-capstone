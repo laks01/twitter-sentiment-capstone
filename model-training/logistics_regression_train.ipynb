{
 "cells": [
  {
   "cell_type": "code",
   "execution_count": 75,
   "id": "88513d2f",
   "metadata": {},
   "outputs": [],
   "source": [
    "import pandas as pd\n",
    "import numpy as np\n",
    "from sklearn import linear_model\n",
    "import os\n",
    "import sys\n",
    "import re\n",
    "import plotly.express as px\n",
    "import plotly.graph_objects as go\n",
    "from sklearn.metrics import roc_auc_score\n",
    "from sklearn.metrics import confusion_matrix\n",
    "from sklearn.metrics import ConfusionMatrixDisplay\n",
    "import pickle\n",
    "import s3fs"
   ]
  },
  {
   "cell_type": "code",
   "execution_count": 20,
   "id": "2b87d885",
   "metadata": {},
   "outputs": [],
   "source": [
    "module_path = os.path.abspath(os.path.join('..'))\n",
    "if module_path not in sys.path:\n",
    "    sys.path.append(module_path)"
   ]
  },
  {
   "cell_type": "code",
   "execution_count": 21,
   "id": "7a9530af",
   "metadata": {},
   "outputs": [],
   "source": [
    "from utils import process_tweet"
   ]
  },
  {
   "cell_type": "code",
   "execution_count": 22,
   "id": "f30a692b",
   "metadata": {},
   "outputs": [
    {
     "data": {
      "text/html": [
       "<div>\n",
       "<style scoped>\n",
       "    .dataframe tbody tr th:only-of-type {\n",
       "        vertical-align: middle;\n",
       "    }\n",
       "\n",
       "    .dataframe tbody tr th {\n",
       "        vertical-align: top;\n",
       "    }\n",
       "\n",
       "    .dataframe thead th {\n",
       "        text-align: right;\n",
       "    }\n",
       "</style>\n",
       "<table border=\"1\" class=\"dataframe\">\n",
       "  <thead>\n",
       "    <tr style=\"text-align: right;\">\n",
       "      <th></th>\n",
       "      <th>Unnamed: 0</th>\n",
       "      <th>sentiment</th>\n",
       "      <th>text</th>\n",
       "    </tr>\n",
       "  </thead>\n",
       "  <tbody>\n",
       "    <tr>\n",
       "      <th>515876</th>\n",
       "      <td>1129264</td>\n",
       "      <td>1</td>\n",
       "      <td>@vismajor thanks</td>\n",
       "    </tr>\n",
       "    <tr>\n",
       "      <th>662216</th>\n",
       "      <td>293311</td>\n",
       "      <td>0</td>\n",
       "      <td>Not finished watching 27 dresses yet. Taking a...</td>\n",
       "    </tr>\n",
       "    <tr>\n",
       "      <th>484776</th>\n",
       "      <td>1355987</td>\n",
       "      <td>1</td>\n",
       "      <td>Looking forward to a lay in tomorrow morning</td>\n",
       "    </tr>\n",
       "    <tr>\n",
       "      <th>322221</th>\n",
       "      <td>227581</td>\n",
       "      <td>0</td>\n",
       "      <td>Humu? I wish had mad longboarding skills  http...</td>\n",
       "    </tr>\n",
       "    <tr>\n",
       "      <th>323701</th>\n",
       "      <td>1270745</td>\n",
       "      <td>1</td>\n",
       "      <td>@joeymcintyre sorry I think of rockin' robin a...</td>\n",
       "    </tr>\n",
       "  </tbody>\n",
       "</table>\n",
       "</div>"
      ],
      "text/plain": [
       "        Unnamed: 0  sentiment  \\\n",
       "515876     1129264          1   \n",
       "662216      293311          0   \n",
       "484776     1355987          1   \n",
       "322221      227581          0   \n",
       "323701     1270745          1   \n",
       "\n",
       "                                                     text  \n",
       "515876                                  @vismajor thanks   \n",
       "662216  Not finished watching 27 dresses yet. Taking a...  \n",
       "484776      Looking forward to a lay in tomorrow morning   \n",
       "322221  Humu? I wish had mad longboarding skills  http...  \n",
       "323701  @joeymcintyre sorry I think of rockin' robin a...  "
      ]
     },
     "execution_count": 22,
     "metadata": {},
     "output_type": "execute_result"
    }
   ],
   "source": [
    "data = pd.read_csv(\"s3://twitter-sentiment-laks/processed/sentiment_label_data.csv\")\n",
    "data.sample(5)"
   ]
  },
  {
   "cell_type": "code",
   "execution_count": 23,
   "id": "5694f57b",
   "metadata": {},
   "outputs": [],
   "source": [
    "data[\"tweets\"] = data[\"text\"].map(lambda x : process_tweet(x))"
   ]
  },
  {
   "cell_type": "code",
   "execution_count": 24,
   "id": "f2076095",
   "metadata": {},
   "outputs": [
    {
     "data": {
      "text/plain": [
       "941298    mmmm, iced coffee... - …that i still need to f...\n",
       "729592    @sunkitty7 season 2 - amazing wonderful! and t...\n",
       "334193    feeling very sad after an emotional day ... mo...\n",
       "834332    im extremely disappointed with the mikey show....\n",
       "637117                             @analovestito  clean me!\n",
       "678544                                    i'm so bored now \n",
       "594591    in the words of imogen heap........... is that...\n",
       "132428                        sorry deejj they're gone  lol\n",
       "171964    assassins creed 2 trailer was awesome. no i am...\n",
       "648623    @mvanduyne http://twitpic.com/7t1b9 - yeha, i ...\n",
       "Name: tweets, dtype: object"
      ]
     },
     "execution_count": 24,
     "metadata": {},
     "output_type": "execute_result"
    }
   ],
   "source": [
    "#Added column clean_tweet to store te processed tweets \n",
    "data[\"tweets\"].sample(10)"
   ]
  },
  {
   "cell_type": "code",
   "execution_count": 25,
   "id": "facd5e3f",
   "metadata": {},
   "outputs": [],
   "source": [
    "from sklearn.model_selection import train_test_split\n",
    "\n",
    "X_train, X_test, y_train, y_test = train_test_split(data['tweets'], data['sentiment'], test_size = 0.333, random_state=0)"
   ]
  },
  {
   "cell_type": "code",
   "execution_count": 26,
   "id": "bfa1f235",
   "metadata": {},
   "outputs": [
    {
     "data": {
      "text/plain": [
       "'actually loves her life right now '"
      ]
     },
     "execution_count": 26,
     "metadata": {},
     "output_type": "execute_result"
    }
   ],
   "source": [
    "X_train[0]"
   ]
  },
  {
   "cell_type": "code",
   "execution_count": 27,
   "id": "4592f1ac",
   "metadata": {},
   "outputs": [
    {
     "data": {
      "text/plain": [
       "1"
      ]
     },
     "execution_count": 27,
     "metadata": {},
     "output_type": "execute_result"
    }
   ],
   "source": [
    "y_train[0]"
   ]
  },
  {
   "cell_type": "code",
   "execution_count": 29,
   "id": "9e643eff",
   "metadata": {},
   "outputs": [],
   "source": [
    "from sklearn.feature_extraction.text import CountVectorizer\n",
    "vect = CountVectorizer().fit(X_train)\n"
   ]
  },
  {
   "cell_type": "code",
   "execution_count": 30,
   "id": "6c4de796",
   "metadata": {},
   "outputs": [],
   "source": [
    "#vect.get_feature_names()[::10]"
   ]
  },
  {
   "cell_type": "code",
   "execution_count": 31,
   "id": "cd3c63d4",
   "metadata": {},
   "outputs": [
    {
     "data": {
      "text/plain": [
       "(667000, 378164)"
      ]
     },
     "execution_count": 31,
     "metadata": {},
     "output_type": "execute_result"
    }
   ],
   "source": [
    "X_train_vectorized = vect.transform(X_train)\n",
    "X_train_vectorized.get_shape()"
   ]
  },
  {
   "cell_type": "code",
   "execution_count": 32,
   "id": "d0927c4d",
   "metadata": {},
   "outputs": [],
   "source": [
    "logistic_regression = linear_model.LogisticRegression(solver='liblinear')"
   ]
  },
  {
   "cell_type": "code",
   "execution_count": 33,
   "id": "c3e5dfbc",
   "metadata": {},
   "outputs": [
    {
     "data": {
      "text/plain": [
       "LogisticRegression(solver='liblinear')"
      ]
     },
     "execution_count": 33,
     "metadata": {},
     "output_type": "execute_result"
    }
   ],
   "source": [
    "logistic_regression.fit(X_train_vectorized, y_train)\n"
   ]
  },
  {
   "cell_type": "code",
   "execution_count": 34,
   "id": "80034b64",
   "metadata": {},
   "outputs": [
    {
     "data": {
      "text/plain": [
       "(333000, 378164)"
      ]
     },
     "execution_count": 34,
     "metadata": {},
     "output_type": "execute_result"
    }
   ],
   "source": [
    "X_test_vectorized = vect.transform(X_test)\n",
    "X_test_vectorized.get_shape()"
   ]
  },
  {
   "cell_type": "code",
   "execution_count": 35,
   "id": "166c11bb",
   "metadata": {},
   "outputs": [],
   "source": [
    "predicted_labels = logistic_regression.predict(X_test_vectorized)"
   ]
  },
  {
   "cell_type": "code",
   "execution_count": 37,
   "id": "e54b490b",
   "metadata": {},
   "outputs": [
    {
     "name": "stdout",
     "output_type": "stream",
     "text": [
      "AUC: 0.796709526336246\n"
     ]
    }
   ],
   "source": [
    "from sklearn.metrics import roc_auc_score\n",
    "print(\"AUC:\", roc_auc_score (y_test, predicted_labels))"
   ]
  },
  {
   "cell_type": "code",
   "execution_count": 38,
   "id": "6a77d9a3-915f-4d84-9a13-feccc4ce7a20",
   "metadata": {},
   "outputs": [
    {
     "data": {
      "text/plain": [
       "array([1, 1, 0, 1, 0])"
      ]
     },
     "execution_count": 38,
     "metadata": {},
     "output_type": "execute_result"
    }
   ],
   "source": [
    "predicted_labels[:5]"
   ]
  },
  {
   "cell_type": "code",
   "execution_count": 39,
   "id": "647eb38a",
   "metadata": {},
   "outputs": [
    {
     "name": "stdout",
     "output_type": "stream",
     "text": [
      "[[130757  35839]\n",
      " [ 31859 134545]]\n"
     ]
    }
   ],
   "source": [
    "# Confusion Matrix to evaluate for binary classification\n",
    "from sklearn.metrics import confusion_matrix\n",
    "confusion_matrix = confusion_matrix(y_test, predicted_labels)\n",
    "#confusion_matrix = confusion_matrix.astype(int)\n",
    "print(confusion_matrix)"
   ]
  },
  {
   "cell_type": "code",
   "execution_count": 47,
   "id": "6458c0d5-b6fe-4bb7-a5b5-e780ffd80603",
   "metadata": {},
   "outputs": [
    {
     "data": {
      "text/plain": [
       "<sklearn.metrics._plot.confusion_matrix.ConfusionMatrixDisplay at 0x13b25eca0>"
      ]
     },
     "execution_count": 47,
     "metadata": {},
     "output_type": "execute_result"
    },
    {
     "data": {
      "image/png": "[encoded data removed]",
      "text/plain": [
       "<Figure size 432x288 with 2 Axes>"
      ]
     },
     "metadata": {
      "needs_background": "light"
     },
     "output_type": "display_data"
    }
   ],
   "source": [
    "disp = ConfusionMatrixDisplay(confusion_matrix=confusion_matrix, display_labels=['Postive', 'Negative'])\n",
    "disp.plot()"
   ]
  },
  {
   "cell_type": "code",
   "execution_count": 48,
   "id": "603f6760",
   "metadata": {},
   "outputs": [
    {
     "name": "stdout",
     "output_type": "stream",
     "text": [
      "Precision    : 0.790\n",
      "Recall       : 0.809\n",
      "F1 Score     : 0.799\n"
     ]
    }
   ],
   "source": [
    "#Calculating precision, recall, f1_score \n",
    "from sklearn.metrics import classification_report, precision_score, recall_score, f1_score\n",
    "print('Precision    : %.3f'%precision_score(y_test, predicted_labels))\n",
    "print('Recall       : %.3f'%recall_score(y_test, predicted_labels))\n",
    "print('F1 Score     : %.3f'%f1_score(y_test, predicted_labels))"
   ]
  },
  {
   "cell_type": "code",
   "execution_count": 76,
   "id": "506bada9",
   "metadata": {},
   "outputs": [
    {
     "name": "stdout",
     "output_type": "stream",
     "text": [
      "s3://twitter-sentiment-laks/trained_models/logistics_regression.sav\n"
     ]
    }
   ],
   "source": [
    "#model_dir = 's3://twitter-sentiment-laks/trained_models/'\n",
    "model_dir='trained_models/'\n",
    "file_name='s3://twitter-sentiment-laks/trained_models/logistics_regression.sav'\n",
    "print(file_name)\n",
    "fs = s3fs.S3FileSystem(anon=False)\n",
    "pickle.dump(logistic_regression, fs.open(file_name, 'wb'))"
   ]
  },
  {
   "cell_type": "code",
   "execution_count": 60,
   "id": "202b148c",
   "metadata": {},
   "outputs": [],
   "source": [
    "#Predicting the Telsa Sentiment Analysis using trained model\n",
    "\n",
    "#data = pd.read_csv(\"../data/processed/processed_tweets.csv\")\n",
    "#data = pd.read_csv(\"../data/processed/processed_tweets-$AAPL-2022-07-20.csv\")\n",
    "data = pd.read_csv(\"../data/processed/processed_tweets-$GOOG-2022-07-20.csv\")"
   ]
  },
  {
   "cell_type": "code",
   "execution_count": 61,
   "id": "a385e982",
   "metadata": {},
   "outputs": [
    {
     "data": {
      "text/html": [
       "<div>\n",
       "<style scoped>\n",
       "    .dataframe tbody tr th:only-of-type {\n",
       "        vertical-align: middle;\n",
       "    }\n",
       "\n",
       "    .dataframe tbody tr th {\n",
       "        vertical-align: top;\n",
       "    }\n",
       "\n",
       "    .dataframe thead th {\n",
       "        text-align: right;\n",
       "    }\n",
       "</style>\n",
       "<table border=\"1\" class=\"dataframe\">\n",
       "  <thead>\n",
       "    <tr style=\"text-align: right;\">\n",
       "      <th></th>\n",
       "      <th>Unnamed: 0</th>\n",
       "      <th>Tweet Id</th>\n",
       "      <th>text</th>\n",
       "      <th>Tweet Date</th>\n",
       "      <th>followers</th>\n",
       "      <th>Account Verified</th>\n",
       "      <th>Favorite Count</th>\n",
       "      <th>clean_tweet</th>\n",
       "    </tr>\n",
       "  </thead>\n",
       "  <tbody>\n",
       "    <tr>\n",
       "      <th>0</th>\n",
       "      <td>0</td>\n",
       "      <td>1549823247721586688</td>\n",
       "      <td>RT @StockMKTNewz: Google said it will pause hi...</td>\n",
       "      <td>2022-07-20 18:27:11+00:00</td>\n",
       "      <td>1802</td>\n",
       "      <td>False</td>\n",
       "      <td>0</td>\n",
       "      <td>['googl', 'said', 'paus', 'hire', 'two', 'week...</td>\n",
       "    </tr>\n",
       "    <tr>\n",
       "      <th>1</th>\n",
       "      <td>1</td>\n",
       "      <td>1549822312903483398</td>\n",
       "      <td>RT @amazonholder1: $goog continues to be notic...</td>\n",
       "      <td>2022-07-20 18:23:28+00:00</td>\n",
       "      <td>759</td>\n",
       "      <td>False</td>\n",
       "      <td>0</td>\n",
       "      <td>['goog', 'continu', 'notic', 'weak']</td>\n",
       "    </tr>\n",
       "    <tr>\n",
       "      <th>2</th>\n",
       "      <td>2</td>\n",
       "      <td>1549822105687973888</td>\n",
       "      <td>RT @blakestonks: $META $TSLA $MSFT $RIVN $ORCL...</td>\n",
       "      <td>2022-07-20 18:22:38+00:00</td>\n",
       "      <td>78</td>\n",
       "      <td>False</td>\n",
       "      <td>0</td>\n",
       "      <td>['meta', 'tsla', 'msft', 'rivn', 'orcl', 'goog...</td>\n",
       "    </tr>\n",
       "    <tr>\n",
       "      <th>3</th>\n",
       "      <td>3</td>\n",
       "      <td>1549822024616497154</td>\n",
       "      <td>wouldnt be surprised if they ramp it all the w...</td>\n",
       "      <td>2022-07-20 18:22:19+00:00</td>\n",
       "      <td>5650</td>\n",
       "      <td>False</td>\n",
       "      <td>0</td>\n",
       "      <td>['wouldnt', 'surpris', 'ramp', 'way', 'back', ...</td>\n",
       "    </tr>\n",
       "    <tr>\n",
       "      <th>4</th>\n",
       "      <td>4</td>\n",
       "      <td>1549821974192349184</td>\n",
       "      <td>RT @SpecialSitsNews: GOOGLE $GOOG SAYS IT WILL...</td>\n",
       "      <td>2022-07-20 18:22:07+00:00</td>\n",
       "      <td>4308</td>\n",
       "      <td>False</td>\n",
       "      <td>0</td>\n",
       "      <td>['googl', 'goog', 'say', 'paus', 'hire', 'temp...</td>\n",
       "    </tr>\n",
       "  </tbody>\n",
       "</table>\n",
       "</div>"
      ],
      "text/plain": [
       "   Unnamed: 0             Tweet Id  \\\n",
       "0           0  1549823247721586688   \n",
       "1           1  1549822312903483398   \n",
       "2           2  1549822105687973888   \n",
       "3           3  1549822024616497154   \n",
       "4           4  1549821974192349184   \n",
       "\n",
       "                                                text  \\\n",
       "0  RT @StockMKTNewz: Google said it will pause hi...   \n",
       "1  RT @amazonholder1: $goog continues to be notic...   \n",
       "2  RT @blakestonks: $META $TSLA $MSFT $RIVN $ORCL...   \n",
       "3  wouldnt be surprised if they ramp it all the w...   \n",
       "4  RT @SpecialSitsNews: GOOGLE $GOOG SAYS IT WILL...   \n",
       "\n",
       "                  Tweet Date  followers  Account Verified  Favorite Count  \\\n",
       "0  2022-07-20 18:27:11+00:00       1802             False               0   \n",
       "1  2022-07-20 18:23:28+00:00        759             False               0   \n",
       "2  2022-07-20 18:22:38+00:00         78             False               0   \n",
       "3  2022-07-20 18:22:19+00:00       5650             False               0   \n",
       "4  2022-07-20 18:22:07+00:00       4308             False               0   \n",
       "\n",
       "                                         clean_tweet  \n",
       "0  ['googl', 'said', 'paus', 'hire', 'two', 'week...  \n",
       "1               ['goog', 'continu', 'notic', 'weak']  \n",
       "2  ['meta', 'tsla', 'msft', 'rivn', 'orcl', 'goog...  \n",
       "3  ['wouldnt', 'surpris', 'ramp', 'way', 'back', ...  \n",
       "4  ['googl', 'goog', 'say', 'paus', 'hire', 'temp...  "
      ]
     },
     "execution_count": 61,
     "metadata": {},
     "output_type": "execute_result"
    }
   ],
   "source": [
    "data.head()"
   ]
  },
  {
   "cell_type": "code",
   "execution_count": 62,
   "id": "6d0c53ac",
   "metadata": {},
   "outputs": [
    {
     "data": {
      "text/plain": [
       "(157, 378164)"
      ]
     },
     "execution_count": 62,
     "metadata": {},
     "output_type": "execute_result"
    }
   ],
   "source": [
    "# pulling the tesla tweets and vectorizing them\n",
    "tweets = data[\"clean_tweet\"]\n",
    "\n",
    "tweets_vectorized = vect.transform(tweets)\n",
    "tweets_vectorized.get_shape()"
   ]
  },
  {
   "cell_type": "code",
   "execution_count": 77,
   "id": "3799c7bd",
   "metadata": {},
   "outputs": [],
   "source": [
    "#Predicting thetweets sentiments\n",
    "\n",
    "# Loading the model\n",
    "model_dir = 'trained_models/'\n",
    "#file_name = model_dir+'logistics_regression.sav'\n",
    "file_name='s3://twitter-sentiment-laks/trained_models/logistics_regression.sav'\n",
    "loaded_model = pickle.load(fs.open(file_name, 'rb'))\n",
    "data[\"predictions\"] = loaded_model.predict(tweets_vectorized)"
   ]
  },
  {
   "cell_type": "code",
   "execution_count": 78,
   "id": "07de65c6",
   "metadata": {},
   "outputs": [
    {
     "data": {
      "text/plain": [
       "1    96\n",
       "0    61\n",
       "Name: predictions, dtype: int64"
      ]
     },
     "execution_count": 78,
     "metadata": {},
     "output_type": "execute_result"
    }
   ],
   "source": [
    "data[\"predictions\"].value_counts()"
   ]
  },
  {
   "cell_type": "code",
   "execution_count": null,
   "id": "c2d3c965",
   "metadata": {},
   "outputs": [],
   "source": [
    "# Data frame date \n",
    "df = data[\"predictions\"].value_counts()\n",
    "sentiment = ''\n",
    "if df[\"Negative\"] > df[\"Positive\"]:\n",
    "    sentiment = \"Negative\"\n",
    "else:\n",
    "    sentiment =\"Positive\"\n",
    "\n",
    "tweet_date = data[\"Tweet Date\"][0]\n",
    "dates = tweet_date.rsplit(' ')\n",
    "dates[0]\n",
    "d = [[dates[0], sentiment, 'GOOG']]\n",
    "tweet_df = pd.DataFrame(d, columns=['Date', 'Sentiment', 'Company']) \n",
    "tweet_df"
   ]
  },
  {
   "cell_type": "code",
   "execution_count": 249,
   "id": "7c3fceaf",
   "metadata": {},
   "outputs": [
    {
     "data": {
      "image/png": "[encoded data removed]"
     },
     "metadata": {},
     "output_type": "display_data"
    }
   ],
   "source": [
    "#Histogram to display tweets sentiment\n",
    "tweet_predictions_senti = data\n",
    "tweet_predictions_senti[\"predictions\"] = tweet_predictions_senti[\"predictions\"].replace({1:'Positive'})\n",
    "tweet_predictions_senti[\"predictions\"] = tweet_predictions_senti[\"predictions\"].replace({0:'Negative'})\n",
    "fig = px.histogram(tweet_predictions_senti, x=\"predictions\")\n",
    "fig.update_traces(marker_color=\"indianred\", marker_line_color='black')\n",
    "fig.update_layout(title_text=\"Tweets Sentiment\")\n",
    "fig.show()"
   ]
  },
  {
   "cell_type": "code",
   "execution_count": 250,
   "id": "168c202c",
   "metadata": {},
   "outputs": [],
   "source": [
    "#Storing the data with predicted sentiment labels\n",
    "data.to_csv('../data/output/sentiment_predictions_tweets-$AAPL-2022-07-20.csv')\n",
    "tweet_df.to_csv('../data/output/tweet_daily-$AAPL.csv')"
   ]
  },
  {
   "cell_type": "code",
   "execution_count": null,
   "id": "c4b87405",
   "metadata": {},
   "outputs": [],
   "source": []
  }
 ],
 "metadata": {
  "kernelspec": {
   "display_name": "Python 3",
   "language": "python",
   "name": "python3"
  },
  "language_info": {
   "codemirror_mode": {
    "name": "ipython",
    "version": 3
   },
   "file_extension": ".py",
   "mimetype": "text/x-python",
   "name": "python",
   "nbconvert_exporter": "python",
   "pygments_lexer": "ipython3",
   "version": "3.8.10"
  }
 },
 "nbformat": 4,
 "nbformat_minor": 5
}
