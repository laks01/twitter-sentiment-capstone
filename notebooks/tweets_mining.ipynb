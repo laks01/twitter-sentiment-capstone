{
 "cells": [
  {
   "cell_type": "code",
   "execution_count": 321,
   "id": "c70ac845-cb43-4c4d-be60-2c7899d6776e",
   "metadata": {},
   "outputs": [],
   "source": [
    "import pandas as py\n",
    "import numpy as np\n",
    "import tweepy\n",
    "import csv\n",
    "import s3fs"
   ]
  },
  {
   "cell_type": "code",
   "execution_count": 284,
   "id": "a54d58da-a668-46e2-bdb6-d64349c9633d",
   "metadata": {},
   "outputs": [],
   "source": [
    "## Twitter Developer Credentials\n",
    "consumer_key=<Your consumer_key>\n",
    "consumer_secret=<Your consumer_secret>\n",
    "access_token=<Your access_token>\n",
    "access_token_secret=<Your access_token_secret>\n",
    "bearer_token=<Your bearer_token>"
   ]
  },
  {
   "cell_type": "code",
   "execution_count": 306,
   "id": "0fd2ff8c-ae1d-4f95-a10d-2a18adacc84f",
   "metadata": {},
   "outputs": [],
   "source": [
    "#Setting Twitter API Auth \n",
    "auth = tweepy.OAuthHandler(consumer_key, consumer_secret)\n",
    "auth.set_access_token(access_token,access_token_secret )\n",
    "api = tweepy.API(auth,wait_on_rate_limit=True)"
   ]
  },
  {
   "cell_type": "code",
   "execution_count": 314,
   "id": "ff8793af-8d11-4628-b4af-e2bb0e9795d1",
   "metadata": {},
   "outputs": [],
   "source": [
    "client = tweepy.Client(bearer_token=bearer_token, consumer_key=consumer_key, consumer_secret=consumer_secret,access_token=access_token,\n",
    "                       access_token_secret=access_token_secret,return_type=tweepy.Response,wait_on_rate_limit=True\n",
    "                      )"
   ]
  },
  {
   "cell_type": "code",
   "execution_count": 317,
   "id": "a59e7e3a-5b30-4ee0-aa96-44f8435423dd",
   "metadata": {},
   "outputs": [],
   "source": [
    "# Pulling the Twitter Data for analysis\n",
    "query=\"#TWTR\"\n",
    "start_time='2022-11-05T00:00:00Z'\n",
    "end_time='2022-11-06T00:00:00Z'\n",
    "user_fields= ['created_at', 'id', 'location', 'name']\n",
    "\n",
    "tweet_fields=['created_at', 'id', 'public_metrics', 'possibly_sensitive', 'referenced_tweets', 'source', 'text', ]\n",
    "\n",
    "place_fields=['contained_within', 'country', 'country_code', 'full_name', 'geo', 'id', 'name',\n",
    " 'place_type']\n",
    "\n",
    "response = client.search_recent_tweets(query=query, \n",
    "                                   tweet_fields=tweet_fields,\n",
    "                                   place_fields=place_fields, \n",
    "                                   user_fields=user_fields,\n",
    "                                   expansions=['author_id', 'geo.place_id'],\n",
    "                                   start_time=start_time,\n",
    "                                   end_time=end_time,\n",
    "                                   max_results=100)"
   ]
  },
  {
   "cell_type": "code",
   "execution_count": 318,
   "id": "4e88dddd-73ff-4809-9ccf-0ca56cbbc344",
   "metadata": {},
   "outputs": [],
   "source": [
    "tweets = response.data\n",
    "includes = response.includes"
   ]
  },
  {
   "cell_type": "code",
   "execution_count": 322,
   "id": "5cf1d923-e819-4b77-88c6-740fffa27f0b",
   "metadata": {},
   "outputs": [
    {
     "name": "stdout",
     "output_type": "stream",
     "text": [
      "*********************\n"
     ]
    }
   ],
   "source": [
    "# Adding tweet, id, created_date, author_id to CSV file \n",
    "for tweet in tweets:\n",
    "    tweet_id = tweet.id\n",
    "    text = tweet.text\n",
    "    created_at = tweet.created_at\n",
    "    author_id = tweet.author_id\n",
    "    fs = s3fs.S3FileSystem(anon=False)\n",
    "    with fs.open('s3://twitter-sentiment-laks/raw/tweets_TWTR_2022.csv', 'a', newline='', encoding='utf-8') as csvFile2:\n",
    "            headerList = ['tweet_id', 'created_at', 'text', 'author_id']\n",
    "            csv_writer = csv.writer(csvFile2, delimiter=',')\n",
    "            csv_writer.writerow([tweet_id, created_at, text, author_id ])\n",
    "print('Process Completed')"
   ]
  },
  {
   "cell_type": "code",
   "execution_count": null,
   "id": "a42751f6-7fee-4679-a3ed-844317ec02ac",
   "metadata": {},
   "outputs": [],
   "source": []
  }
 ],
 "metadata": {
  "kernelspec": {
   "display_name": "Python 3",
   "language": "python",
   "name": "python3"
  },
  "language_info": {
   "codemirror_mode": {
    "name": "ipython",
    "version": 3
   },
   "file_extension": ".py",
   "mimetype": "text/x-python",
   "name": "python",
   "nbconvert_exporter": "python",
   "pygments_lexer": "ipython3",
   "version": "3.8.10"
  }
 },
 "nbformat": 4,
 "nbformat_minor": 5
}
